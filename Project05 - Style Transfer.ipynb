{
 "cells": [
  {
   "cell_type": "code",
   "execution_count": null,
   "metadata": {
    "collapsed": true
   },
   "outputs": [],
   "source": [
    "import numpy as np\n",
    "import tensorflow as tf\n",
    "\n",
    "from keras import backend as K\n",
    "from scipy.optimize import fmin_l_bfgs_b\n",
    "\n",
    "from keras.applications import vgg16, vgg19\n",
    "from keras.preprocessing.image import load_img"
   ]
  },
  {
   "cell_type": "code",
   "execution_count": null,
   "metadata": {
    "collapsed": true
   },
   "outputs": [],
   "source": [
    "# https://github.com/kevinzakka/style-transfer/blob/master/neural_styler.py"
   ]
  },
  {
   "cell_type": "markdown",
   "metadata": {},
   "source": [
    "# image processing"
   ]
  },
  {
   "cell_type": "code",
   "execution_count": null,
   "metadata": {
    "collapsed": true
   },
   "outputs": [],
   "source": [
    "# util function to open, resize and format pictures into appropriate tensors\n",
    "def preprocess_image(image_path, desired_dims):\n",
    "    img = load_img(image_path, target_size=desired_dims)\n",
    "    img = img_to_array(img)\n",
    "    img = np.expand_dims(img, axis=0)\n",
    "    img = vgg16.preprocess_input(img)\n",
    "return img\n",
    "\n"
   ]
  },
  {
   "cell_type": "code",
   "execution_count": null,
   "metadata": {
    "collapsed": true
   },
   "outputs": [],
   "source": [
    "# util function to convert a tensor into a valid image\t\n",
    "def deprocess_image(x, img_nrows, img_ncols):\n",
    "    if K.image_dim_ordering() == 'th':\n",
    "        x = x.reshape((3, img_nrows, img_ncols))\n",
    "        x = x.transpose((1, 2, 0))\n",
    "    else:\n",
    "    x = x.reshape((img_nrows, img_ncols, 3))\n",
    "    # Remove zero-center by mean pixel\n",
    "    x[:, :, 0] += 103.939\n",
    "    x[:, :, 1] += 116.779\n",
    "    x[:, :, 2] += 123.68\n",
    "    # 'BGR'->'RGB'\n",
    "    x = x[:, :, ::-1]\n",
    "    x = np.clip(x, 0, 255).astype('uint8')\n",
    "return x"
   ]
  },
  {
   "cell_type": "code",
   "execution_count": null,
   "metadata": {
    "collapsed": true
   },
   "outputs": [],
   "source": []
  },
  {
   "cell_type": "markdown",
   "metadata": {},
   "source": [
    "# loss functions"
   ]
  },
  {
   "cell_type": "code",
   "execution_count": null,
   "metadata": {
    "collapsed": true
   },
   "outputs": [],
   "source": [
    "def feature_reconstruction_loss(base, output):\n",
    "    \"\"\"\n",
    "    Feature reconstruction loss function. Encourages the \n",
    "    output img to be perceptually similar to the base image.\n",
    "    \"\"\"\n",
    "return K.sum(K.square(output - base))\n"
   ]
  },
  {
   "cell_type": "code",
   "execution_count": null,
   "metadata": {
    "collapsed": true
   },
   "outputs": [],
   "source": [
    "def gram_matrix(x):\n",
    "    \"\"\"\n",
    "    Computes the outer-product of the input tensor x.\n",
    "    Input\n",
    "    -----\n",
    "    - x: input tensor of shape (C x H x W)\n",
    "    \n",
    "    Returns\n",
    "    -------\n",
    "    - x . x^T\n",
    "    Note that this can be computed efficiently if x is reshaped\n",
    "    as a tensor of shape (C x H*W).\n",
    "    \"\"\"\n",
    "    # assert K.ndim(x) == 3\n",
    "    if K.image_dim_ordering() == 'th':\n",
    "        features = K.batch_flatten(x)\n",
    "    else:\n",
    "        features = K.batch_flatten(K.permute_dimensions(x, (2, 0, 1)))\n",
    "return K.dot(features, K.transpose(features))"
   ]
  },
  {
   "cell_type": "code",
   "execution_count": null,
   "metadata": {
    "collapsed": true
   },
   "outputs": [],
   "source": [
    "def style_reconstruction_loss(base, output, img_nrows, img_ncols):\n",
    "    \"\"\"\n",
    "    Style reconstruction loss. Encourage the output img \n",
    "    to have same stylistic features as style image. Does not\n",
    "    preserve spatial structure however.\n",
    "    \"\"\"\n",
    "    H, W, C = img_nrows, img_ncols, 3\n",
    "    gram_base = gram_matrix(base)\n",
    "    gram_output = gram_matrix(output)\n",
    "    factor = 1.0 / float((2*C*H*W)**2)\n",
    "    out = factor * K.sum(K.square(gram_output - gram_base))\n",
    "return out\n",
    "\n"
   ]
  },
  {
   "cell_type": "code",
   "execution_count": null,
   "metadata": {
    "collapsed": true
   },
   "outputs": [],
   "source": [
    "def total_variation_loss(x, img_nrows, img_ncols):\n",
    "    \"\"\"\n",
    "    Total variational loss. Encourages spatial smoothness \n",
    "    in the output image.\n",
    "    \"\"\"\n",
    "    H, W = img_nrows, img_ncols\n",
    "    if K.image_dim_ordering() == 'th':\n",
    "        a = K.square(x[:, :, :H-1, :W-1] - x[:, :, 1:, :W-1])\n",
    "        b = K.square(x[:, :, :H-1, :W-1] - x[:, :, :H-1, 1:])\n",
    "    else:\n",
    "        a = K.square(x[:, :H-1, :W-1, :] - x[:, 1:, :W-1, :])\n",
    "        b = K.square(x[:, :H-1, :W-1, :] - x[:, :H-1, 1:, :])\n",
    "\n",
    "return K.sum(K.pow(a + b, 1.25))\n"
   ]
  },
  {
   "cell_type": "markdown",
   "metadata": {},
   "source": [
    "# Model"
   ]
  },
  {
   "cell_type": "code",
   "execution_count": null,
   "metadata": {
    "collapsed": true
   },
   "outputs": [],
   "source": [
    "def grads(self, x):\n",
    "    # reshape\n",
    "    if K.image_dim_ordering() == 'th':\n",
    "        x = x.reshape((1, 3, self.img_nrows, self.img_ncols))\n",
    "    else:\n",
    "        x = x.reshape((1, self.img_nrows, self.img_ncols, 3))\n",
    "\n",
    "    outs = self.loss_and_grads([x])\n",
    "\n",
    "    if len(outs[1:]) == 1:\n",
    "        grad_values = outs[1].flatten().astype('float64')\n",
    "    else:\n",
    "        grad_values = np.array(outs[1:]).flatten().astype('float64')\n",
    "return grad_values"
   ]
  },
  {
   "cell_type": "code",
   "execution_count": null,
   "metadata": {
    "collapsed": true
   },
   "outputs": [],
   "source": []
  },
  {
   "cell_type": "code",
   "execution_count": null,
   "metadata": {
    "collapsed": true
   },
   "outputs": [],
   "source": [
    "print('\\nInitializing Style Transfer model...')\n",
    "\n",
    "# store paths\n",
    "base_img_path = ./base_img/\n",
    "style_img_path = ./style_img/\n",
    "output_img_path = ./output_img/\n",
    "\n",
    "# define constant\n",
    "content_weight = 7.5e0\n",
    "style_weight = 1e2\n",
    "tv_weight = 2e2\n",
    "iterations = 100\n",
    "content_layer = 'block4_conv2'\n",
    "style_layers = ['block1_conv1',\n",
    "                'block2_conv1',\n",
    "                'block3_conv1', \n",
    "                'block4_conv1',\n",
    "                'block5_conv1']"
   ]
  },
  {
   "cell_type": "code",
   "execution_count": null,
   "metadata": {
    "collapsed": true
   },
   "outputs": [],
   "source": [
    "\n",
    "print('\\n\\tResizing images...')\n",
    "#self.width = output_width\n",
    "width, height = load_img(self.base_img_path).size\n",
    "new_dims = (height, width)\n",
    "\n",
    "# store shapes for future use\n",
    "#img_nrows = height\n",
    "#img_ncols = width\n",
    "\n",
    "# resize content and style images to this desired shape\n",
    "content_img = K.variable(preprocess_image(base_img_path, new_dims))\n",
    "style_img = K.variable(preprocess_image(style_img_path, new_dims))\n",
    "\n",
    "# and also create output placeholder with desired shape\n",
    "if K.image_dim_ordering() == 'th':\n",
    "    output_img = K.placeholder((1, 3, new_dims[0], new_dims[1]))\n",
    "else:\n",
    "    output_img = K.placeholder((1, new_dims[0], new_dims[1], 3))\n",
    "\n",
    "    \n",
    "# sanity check on dimensions\n",
    "print(\"\\tSize of content image is: {}\".format(K.int_shape(content_img)))\n",
    "print(\"\\tSize of style image is: {}\".format(K.int_shape(style_img)))\n",
    "print(\"\\tSize of output image is: {}\".format(K.int_shape(output_img)))"
   ]
  },
  {
   "cell_type": "code",
   "execution_count": null,
   "metadata": {
    "collapsed": true
   },
   "outputs": [],
   "source": [
    "# create a tensor with the 3 images\n",
    "input_img = K.concatenate([content_img, style_img, output_img], axis=0)\n"
   ]
  },
  {
   "cell_type": "code",
   "execution_count": null,
   "metadata": {
    "collapsed": true
   },
   "outputs": [],
   "source": [
    "# initialize the vgg16 /vgg19 model\n",
    "\n",
    "covnet = vgg16\n",
    "#covnet = vgg19\n",
    "\n",
    "print('\\tLoading {} model'.format(convnet.upper()))\n",
    "\n",
    "if convnet == 'vgg16':\n",
    "    model = vgg16.VGG16(input_tensor=input_img,\n",
    "                        weights='imagenet',\n",
    "                        include_top=False)\n",
    "else:\n",
    "    model = vgg19.VGG19(input_tensor=input_img,\n",
    "                        weights='imagenet',\n",
    "                        include_top=False)"
   ]
  },
  {
   "cell_type": "code",
   "execution_count": 1,
   "metadata": {},
   "outputs": [
    {
     "name": "stdout",
     "output_type": "stream",
     "text": [
      "\tComputing losses...\n"
     ]
    },
    {
     "ename": "NameError",
     "evalue": "name 'model' is not defined",
     "output_type": "error",
     "traceback": [
      "\u001b[0;31m---------------------------------------------------------------------------\u001b[0m",
      "\u001b[0;31mNameError\u001b[0m                                 Traceback (most recent call last)",
      "\u001b[0;32m<ipython-input-1-7709f73a14e8>\u001b[0m in \u001b[0;36m<module>\u001b[0;34m()\u001b[0m\n\u001b[1;32m      1\u001b[0m \u001b[0mprint\u001b[0m\u001b[0;34m(\u001b[0m\u001b[0;34m'\\tComputing losses...'\u001b[0m\u001b[0;34m)\u001b[0m\u001b[0;34m\u001b[0m\u001b[0m\n\u001b[1;32m      2\u001b[0m \u001b[0;31m# get the symbolic outputs of each \"key\" layer (we gave them unique names).\u001b[0m\u001b[0;34m\u001b[0m\u001b[0;34m\u001b[0m\u001b[0m\n\u001b[0;32m----> 3\u001b[0;31m \u001b[0moutputs_dict\u001b[0m \u001b[0;34m=\u001b[0m \u001b[0mdict\u001b[0m\u001b[0;34m(\u001b[0m\u001b[0;34m[\u001b[0m\u001b[0;34m(\u001b[0m\u001b[0mlayer\u001b[0m\u001b[0;34m.\u001b[0m\u001b[0mname\u001b[0m\u001b[0;34m,\u001b[0m \u001b[0mlayer\u001b[0m\u001b[0;34m.\u001b[0m\u001b[0moutput\u001b[0m\u001b[0;34m)\u001b[0m \u001b[0;32mfor\u001b[0m \u001b[0mlayer\u001b[0m \u001b[0;32min\u001b[0m \u001b[0mmodel\u001b[0m\u001b[0;34m.\u001b[0m\u001b[0mlayers\u001b[0m\u001b[0;34m]\u001b[0m\u001b[0;34m)\u001b[0m\u001b[0;34m\u001b[0m\u001b[0m\n\u001b[0m",
      "\u001b[0;31mNameError\u001b[0m: name 'model' is not defined"
     ]
    }
   ],
   "source": [
    "print('\\tComputing losses...')\n",
    "# get the symbolic outputs of each \"key\" layer (we gave them unique names).\n",
    "outputs_dict = dict([(layer.name, layer.output) for layer in model.layers])"
   ]
  },
  {
   "cell_type": "code",
   "execution_count": null,
   "metadata": {
    "collapsed": true
   },
   "outputs": [],
   "source": [
    "# extract features only from the content layer\n",
    "content_features = outputs_dict[content_layer]"
   ]
  },
  {
   "cell_type": "code",
   "execution_count": null,
   "metadata": {
    "collapsed": true
   },
   "outputs": [],
   "source": [
    "# extract the activations of the base image and the output image\n",
    "base_image_features = content_features[0, :, :, :] \t# 0 corresponds to base\n",
    "combination_features = content_features[2, :, :, :] # 2 coresponds to output"
   ]
  },
  {
   "cell_type": "code",
   "execution_count": null,
   "metadata": {
    "collapsed": true
   },
   "outputs": [],
   "source": [
    "# calculate the feature reconstruction loss\n",
    "content_loss = content_weight * feature_reconstruction_loss(base_image_features, combination_features)\n",
    "print('\\n\\t content_loss: ' content_loss)"
   ]
  },
  {
   "cell_type": "code",
   "execution_count": null,
   "metadata": {
    "collapsed": true
   },
   "outputs": [],
   "source": [
    "\n",
    "# for each style layer compute style loss\n",
    "# total style loss is then weighted sum of thoscontent_weighte losses\n",
    "temp_style_loss = K.variable(0.0)\n",
    "weight = 1.0 / float(len(style_layers))\n",
    "\n",
    "for layer in style_layers:\n",
    "    # extract features of given layer\n",
    "    style_features = outputs_dict[layer]\n",
    "    # from those features, extract style and output activations\n",
    "    style_image_features = style_features[1, :, :, :]\n",
    "    output_style_features = style_features[2, :, :, :]\n",
    "    temp_style_loss += weight * \\\n",
    "                        style_reconstruction_loss(style_image_features, \n",
    "                                                  output_style_features,\n",
    "                                                  img_nrows, \n",
    "                                                  img_ncols)\n",
    "style_loss = style_weight * temp_style_loss\n",
    "print('\\t style_loss: ' style_loss)\n",
    "\n",
    "\n",
    "\n",
    "\n"
   ]
  },
  {
   "cell_type": "code",
   "execution_count": null,
   "metadata": {
    "collapsed": true
   },
   "outputs": [],
   "source": [
    "# compute total variational loss\n",
    "tv_loss = tv_weight * total_variation_loss(output_img, \n",
    "                                           img_nrows, \n",
    "                                           img_ncols)\n",
    "print('\\t tv_loss: ' tv_loss)"
   ]
  },
  {
   "cell_type": "code",
   "execution_count": null,
   "metadata": {
    "collapsed": true
   },
   "outputs": [],
   "source": [
    "# composite loss\n",
    "total_loss = content_loss + style_loss + tv_loss\n",
    "print('\\t total_loss: ' total_loss)\n"
   ]
  },
  {
   "cell_type": "code",
   "execution_count": null,
   "metadata": {
    "collapsed": true
   },
   "outputs": [],
   "source": [
    "# compute gradients of output img with respect to loss\n",
    "print('\\tComputing gradients...')\n",
    "grads = K.gradients(total_loss, output_img)\n",
    "\n",
    "outputs = [total_loss]\n",
    "\n",
    "if type(grads) in {list, tuple}:\n",
    "    outputs += grads\n",
    "else:\n",
    "    outputs.append(grads)\n",
    "\n",
    "loss_and_grads = K.function([output_img], outputs)\n"
   ]
  }
 ],
 "metadata": {
  "kernelspec": {
   "display_name": "Python 3",
   "language": "python",
   "name": "python3"
  },
  "language_info": {
   "codemirror_mode": {
    "name": "ipython",
    "version": 3
   },
   "file_extension": ".py",
   "mimetype": "text/x-python",
   "name": "python",
   "nbconvert_exporter": "python",
   "pygments_lexer": "ipython3",
   "version": "3.6.2"
  }
 },
 "nbformat": 4,
 "nbformat_minor": 2
}
